{
 "cells": [
  {
   "cell_type": "code",
   "execution_count": 4,
   "metadata": {},
   "outputs": [
    {
     "data": {
      "text/plain": [
       "0"
      ]
     },
     "execution_count": 4,
     "metadata": {},
     "output_type": "execute_result"
    }
   ],
   "source": [
    "from model import *\n",
    "from data import *\n",
    "from custom_callbacks import ValidatePredictions, TrainingPlot\n",
    "import cv2\n",
    "import random\n",
    "import matplotlib.pyplot as plt\n",
    "from keras.callbacks import TensorBoard\n",
    "import time\n",
    "\n",
    "\n",
    "\n",
    "'''\n",
    "\n",
    "    Important Model Variables\n",
    "    \n",
    "'''\n",
    "weights_path     ='weights/'\n",
    "weights_name     = \"Unet_{epoch}_{dice_coef}_{loss}.h5\"\n",
    "batch_size       = 4\n",
    "tensorboard_logs = \"logs/\"\n",
    "\n",
    "'''\n",
    "\n",
    "    Making Directories\n",
    "\n",
    "'''\n",
    "\n",
    "os.system(f\"mkdir -p {weights_path}\")\n",
    "os.system(f\"mkdir -p {tensorboard_logs}\")"
   ]
  },
  {
   "cell_type": "markdown",
   "metadata": {},
   "source": [
    "### Train with data generator"
   ]
  },
  {
   "cell_type": "code",
   "execution_count": 5,
   "metadata": {},
   "outputs": [
    {
     "name": "stdout",
     "output_type": "stream",
     "text": [
      "Found 10488 images belonging to 1 classes.\n",
      "Found 10488 images belonging to 1 classes.\n"
     ]
    }
   ],
   "source": [
    "\n",
    "'''\n",
    "    Data Generator\n",
    "    \n",
    "'''\n",
    "\n",
    "data_gen_args = dict(rotation_range=0.2,\n",
    "                    width_shift_range=0.05,\n",
    "                    height_shift_range=0.05,\n",
    "                    shear_range=0.05,\n",
    "                    zoom_range=0.05,\n",
    "                    horizontal_flip=True,\n",
    "                    fill_mode='nearest')\n",
    "\n",
    "train_generator = trainGenerator(batch_size,'/media/sohaib/additional_/DataScience/knee_mri/dataset/unet_format/train/','images','masks',data_gen_args,save_to_dir = None)\n",
    "val_generator = trainGenerator(batch_size,'/media/sohaib/additional_/DataScience/knee_mri/dataset/unet_format/train/','images','masks',data_gen_args,save_to_dir = None)\n",
    "\n",
    "\n",
    "'''\n",
    "\n",
    "    Validate your Images\n",
    "\n",
    "'''\n",
    "\n",
    "image, label = next(train_generator)\n",
    "for i in range(0,batch_size):\n",
    "    added_image = cv2.addWeighted(image[i].squeeze(),0.4,label[i].squeeze(),0.1,0)\n",
    "    plt.imshow(added_image)\n",
    "    plt.show()\n",
    "\n",
    "\n"
   ]
  },
  {
   "cell_type": "code",
   "execution_count": null,
   "metadata": {},
   "outputs": [
    {
     "name": "stdout",
     "output_type": "stream",
     "text": [
      "Start epoch 7\n",
      "122/200 [=================>............] - ETA: 9s - loss: 0.0822 - accuracy: 0.9660 - dice_coef: 0.8533"
     ]
    }
   ],
   "source": [
    "model = unet()\n",
    "model.fit_generator(\n",
    "    train_generator,\n",
    "    steps_per_epoch = 200,\n",
    "    epochs = 1000,\n",
    "    callbacks = [\n",
    "                 ModelCheckpoint(weights_path + weights_name,save_best_only=True,save_weights_only=True), \n",
    "                 ValidatePredictions(model, val_generator),\n",
    "                 TensorBoard(log_dir=\"./logs\")\n",
    "\n",
    "    ],\n",
    "     validation_data= val_generator,\n",
    "    validation_steps= 100,\n",
    "    verbose =1 \n",
    ")\n"
   ]
  },
  {
   "cell_type": "markdown",
   "metadata": {},
   "source": [
    "### Train with npy file"
   ]
  },
  {
   "cell_type": "code",
   "execution_count": null,
   "metadata": {},
   "outputs": [],
   "source": []
  },
  {
   "cell_type": "code",
   "execution_count": null,
   "metadata": {},
   "outputs": [],
   "source": []
  },
  {
   "cell_type": "code",
   "execution_count": null,
   "metadata": {},
   "outputs": [],
   "source": []
  }
 ],
 "metadata": {
  "kernelspec": {
   "display_name": "tensorflow2",
   "language": "python",
   "name": "tensorflow2"
  },
  "language_info": {
   "codemirror_mode": {
    "name": "ipython",
    "version": 3
   },
   "file_extension": ".py",
   "mimetype": "text/x-python",
   "name": "python",
   "nbconvert_exporter": "python",
   "pygments_lexer": "ipython3",
   "version": "3.7.10"
  }
 },
 "nbformat": 4,
 "nbformat_minor": 2
}
